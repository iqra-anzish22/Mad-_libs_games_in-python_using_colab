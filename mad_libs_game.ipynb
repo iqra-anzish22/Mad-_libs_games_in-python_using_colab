{
  "nbformat": 4,
  "nbformat_minor": 0,
  "metadata": {
    "colab": {
      "provenance": [],
      "authorship_tag": "ABX9TyNfLWjrztIBfgaPIf7ReNd0",
      "include_colab_link": true
    },
    "kernelspec": {
      "name": "python3",
      "display_name": "Python 3"
    },
    "language_info": {
      "name": "python"
    }
  },
  "cells": [
    {
      "cell_type": "markdown",
      "metadata": {
        "id": "view-in-github",
        "colab_type": "text"
      },
      "source": [
        "<a href=\"https://colab.research.google.com/github/iqra-anzish22/Mad-_libs_games_in-python_using_colab/blob/main/mad_libs_game.ipynb\" target=\"_parent\"><img src=\"https://colab.research.google.com/assets/colab-badge.svg\" alt=\"Open In Colab\"/></a>"
      ]
    },
    {
      "cell_type": "markdown",
      "source": [
        "**Mad Lib Games In Python**"
      ],
      "metadata": {
        "id": "N8ev9PcWaX0y"
      }
    },
    {
      "cell_type": "code",
      "source": [
        "import random\n",
        "\n",
        "# Lists of words\n",
        "names = [\"Aliya\", \"Zoya\", \"Ayesha\", \"Hira\", \"Naila\"]\n",
        "cities = [\"NeoCity\", \"CyberTown\", \"FutureVille\", \"Quantum Bay\"]\n",
        "robots = [\"RoboX\", \"Mecha-9\", \"CyberBot\", \"XTR-200\"]\n",
        "verbs = [\"dancing\", \"jumping\", \"exploring\", \"singing\", \"flying\", \"hacking\"]\n",
        "adjectives = [\"strange\", \"shiny\", \"mysterious\", \"glowing\", \"gigantic\", \"intelligent\"]\n",
        "space_vehicles = [\"HyperJet\", \"StarCruiser\", \"GalaxyRider\", \"NebulaX\", \"CosmoShip\"]\n",
        "\n",
        "# Different story templates\n",
        "stories = [\n",
        "    \"\"\"One day, {name} woke up in {A_Futuristic_City_Name}, a city where {An_Adjective} robots ruled the streets.\n",
        "    As {name} was {A_Verb} around, they encountered {A_Robot_Name}, a highly advanced AI who controlled the city's mainframe.\n",
        "    \"Do you want to escape this place?\" asked {A_Robot_Name}. Without hesitation, {name} entered the {A_Space_Vehicle_Name}\n",
        "    and launched into deep space. The adventure had just begun!\"\"\",\n",
        "\n",
        "    \"\"\"In a distant future, {name} lived in {A_Futuristic_City_Name}, a place known for its {An_Adjective} technology.\n",
        "    One day, while fixing a robot named {A_Robot_Name}, {name} accidentally triggered its self-destruct mode!\n",
        "    In a panic, they jumped into the {A_Space_Vehicle_Name} and {A_Verb} towards the nearest space station.\n",
        "    Would they be able to deactivate {A_Robot_Name} in time?\"\"\",\n",
        "\n",
        "    \"\"\"The great explorer {name} arrived in {A_Futuristic_City_Name} searching for the legendary {An_Adjective} artifact.\n",
        "    With the help of {A_Robot_Name}, a friendly but glitchy AI, they navigated through dangerous mazes.\n",
        "    \"We must {A_Verb} quickly before the security bots arrive!\" shouted {A_Robot_Name}.\n",
        "    They boarded the {A_Space_Vehicle_Name} and sped away just in time, carrying the treasure of the future!\"\"\"\n",
        "]\n",
        "\n",
        "# User Inputs (or random selection)\n",
        "name = input(\"Enter a name (or press Enter for random): \") or random.choice(names)\n",
        "A_Futuristic_City_Name = random.choice(cities)\n",
        "A_Robot_Name = random.choice(robots)\n",
        "A_Verb = random.choice(verbs)\n",
        "An_Adjective = random.choice(adjectives)\n",
        "A_Space_Vehicle_Name = random.choice(space_vehicles)\n",
        "\n",
        "# Randomly select a story\n",
        "story = random.choice(stories)\n",
        "\n",
        "# Format and print the story\n",
        "print(\"\\nHere is your randomly generated story:\")\n",
        "print(story.format(\n",
        "    name=name,\n",
        "    A_Futuristic_City_Name=A_Futuristic_City_Name,\n",
        "    A_Robot_Name=A_Robot_Name,\n",
        "    A_Verb=A_Verb,\n",
        "    An_Adjective=An_Adjective,\n",
        "    A_Space_Vehicle_Name=A_Space_Vehicle_Name\n",
        "))\n"
      ],
      "metadata": {
        "id": "MDiwQ1MJailv",
        "colab": {
          "base_uri": "https://localhost:8080/"
        },
        "outputId": "804c37c2-c5a6-427e-e79c-c900fff16ce1"
      },
      "execution_count": 9,
      "outputs": [
        {
          "output_type": "stream",
          "name": "stdout",
          "text": [
            "Enter a name (or press Enter for random): toba\n",
            "\n",
            "Here is your randomly generated story:\n",
            "The great explorer toba arrived in NeoCity searching for the legendary glowing artifact.\n",
            "    With the help of CyberBot, a friendly but glitchy AI, they navigated through dangerous mazes.\n",
            "    \"We must flying quickly before the security bots arrive!\" shouted CyberBot.\n",
            "    They boarded the HyperJet and sped away just in time, carrying the treasure of the future!\n"
          ]
        }
      ]
    }
  ]
}